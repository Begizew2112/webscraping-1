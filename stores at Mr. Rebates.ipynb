{
 "cells": [
  {
   "cell_type": "code",
   "execution_count": 1,
   "metadata": {},
   "outputs": [
    {
     "name": "stderr",
     "output_type": "stream",
     "text": [
      "C:\\Users\\Yibabe\\AppData\\Local\\Temp\\ipykernel_4804\\2785849010.py:2: DeprecationWarning: \n",
      "Pyarrow will become a required dependency of pandas in the next major release of pandas (pandas 3.0),\n",
      "(to allow more performant data types, such as the Arrow string type, and better interoperability with other libraries)\n",
      "but was not found to be installed on your system.\n",
      "If this would cause problems for you,\n",
      "please provide us feedback at https://github.com/pandas-dev/pandas/issues/54466\n",
      "        \n",
      "  import pandas as pd\n"
     ]
    }
   ],
   "source": [
    "import time \n",
    "import pandas as pd \n",
    "import requests\n",
    "from collections import defaultdict\n",
    "from selenium import webdriver\n",
    "from selenium.webdriver.common.by import By\n",
    "from selenium.webdriver.common.keys import Keys\n",
    "from selenium.webdriver.chrome.options import Options\n",
    "from selenium.webdriver.support import expected_conditions as EC\n",
    "from selenium.webdriver.support.ui import WebDriverWait\n",
    "driver=webdriver.Chrome()"
   ]
  },
  {
   "cell_type": "code",
   "execution_count": 3,
   "metadata": {},
   "outputs": [],
   "source": [
    "website='https://www.mrrebates.com/merchants/all_merchants.asp?letter=a'\n",
    "driver.get(website)"
   ]
  },
  {
   "cell_type": "code",
   "execution_count": 4,
   "metadata": {},
   "outputs": [],
   "source": [
    "\n",
    "data = []\n",
    "data.append([ '' , 'store name', 'coupons', 'cash back'])\n",
    "\n",
    "for i in range(1, 28):\n",
    "    xpath = f\"/html/body/div[1]/div/div[2]/section/div/div/div/div[1]/div[1]/div/a[{i}]\"\n",
    "    group_letter = driver.find_element(By.XPATH, xpath)\n",
    "    group_letter.click()\n",
    "\n",
    "    # Wait for the rows to load\n",
    "    WebDriverWait(driver, 10).until(\n",
    "    lambda driver: EC.presence_of_element_located((By.CLASS_NAME, 'row'))(driver) or\n",
    "    EC.presence_of_element_located((By.CLASS_NAME, 'row Odd'))(driver)\n",
    ")\n",
    "\n",
    "    first_row = driver.find_elements(By.CLASS_NAME, 'row')\n",
    "    next_row = driver.find_elements(By.CLASS_NAME, 'row Odd')\n",
    "    rows = first_row + next_row\n",
    "\n",
    "    for index, row in enumerate(rows):\n",
    "        # Skip the first five  rows since they are tile and description about the data\n",
    "        if index < 5:\n",
    "            continue\n",
    "        # Check if the row contains the \"\"Back to Top\", 'store name', 'coupons', 'cash back' text\n",
    "\n",
    "        if any(text in row.text for text in [\"Back to Top\", 'store name', 'coupons', 'cash back']):\n",
    "            continue\n",
    "\n",
    "        # Extract the text from the row and append it to the data list\n",
    "        row_text = [cell.text for cell in row.find_elements(By.XPATH, \"./*\")]\n",
    "        # Filter out the word \"Shop Now\" if it exists\n",
    "        row_data = [text for text in row_text if text != \"Shop Now\"]\n",
    "        # Skip empty rows\n",
    "        if not any(row_data):\n",
    "            continue\n",
    "        data.append(row_data)\n"
   ]
  },
  {
   "cell_type": "code",
   "execution_count": 5,
   "metadata": {},
   "outputs": [
    {
     "name": "stdout",
     "output_type": "stream",
     "text": [
      "Successfully wrote 3275 rows to output.xlsx, thanks my god!!!! \n"
     ]
    }
   ],
   "source": [
    "\n",
    "#some times it ask persmission \n",
    "# import os\n",
    "# os.chdir(\"C:/Users/yibabe/\") \n",
    "\n",
    "# Create a DataFrame from the 'data' list\n",
    "df = pd.DataFrame(data)\n",
    "\n",
    "# Specify the output Excel file path\n",
    "output_excel_file = \"output.xlsx\"\n",
    "\n",
    "# Write the DataFrame to an Excel sheet\n",
    "df.to_excel(output_excel_file, index=False, header=False)\n",
    "# to check the number of data successfully wrote in the out put\n",
    "print(f\"Successfully wrote {len(df)} rows to {output_excel_file}, thanks my god!!!! \")\n",
    "\n",
    "\n"
   ]
  },
  {
   "cell_type": "code",
   "execution_count": 6,
   "metadata": {},
   "outputs": [
    {
     "name": "stdout",
     "output_type": "stream",
     "text": [
      "Successfully wrote 3275 rows to output.csv\n"
     ]
    }
   ],
   "source": [
    "\n",
    "# Create a DataFrame from the 'data' list\n",
    "df = pd.DataFrame(data)\n",
    "\n",
    "# Specify the output CSV file path\n",
    "output_csv_file = \"output.csv\"\n",
    "\n",
    "# Write the DataFrame to a CSV file\n",
    "\n",
    "df.to_csv(output_csv_file, index=False, header=False)\n",
    "\n",
    "# to check the number of data successfully wrote in the out put\n",
    "print(f\"Successfully wrote {len(df)} rows to {output_csv_file}\")\n",
    "\n",
    "\n",
    "\n"
   ]
  }
 ],
 "metadata": {
  "kernelspec": {
   "display_name": "Python 3",
   "language": "python",
   "name": "python3"
  },
  "language_info": {
   "codemirror_mode": {
    "name": "ipython",
    "version": 3
   },
   "file_extension": ".py",
   "mimetype": "text/x-python",
   "name": "python",
   "nbconvert_exporter": "python",
   "pygments_lexer": "ipython3",
   "version": "3.12.2"
  }
 },
 "nbformat": 4,
 "nbformat_minor": 2
}
