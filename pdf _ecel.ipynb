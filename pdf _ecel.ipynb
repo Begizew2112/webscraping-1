{
  "cells": [
    {
      "cell_type": "code",
      "execution_count": null,
      "metadata": {
        "id": "VTYk0S0JPMr7",
        "outputId": "c870ddc3-af1b-4c95-bf8d-ea4fb903c437"
      },
      "outputs": [
        {
          "name": "stdout",
          "output_type": "stream",
          "text": [
            "Conversion successful! File saved as 'output.csv'\n"
          ]
        }
      ],
      "source": [
        "import pdfplumber\n",
        "import pandas as pd\n",
        "\n",
        "# Open the PDF file\n",
        "pdf_path = r\"C:\\Users\\Yibabe\\Desktop\\webscraping-1\\a2sv\\4th Year Student List - Final List.pdf\"\n",
        "\n",
        "\n",
        "data = []\n",
        "\n",
        "with pdfplumber.open(pdf_path) as pdf:\n",
        "    for page in pdf.pages:\n",
        "        table = page.extract_table()\n",
        "        if table:\n",
        "            data.extend(table)\n",
        "\n",
        "# Convert to DataFrame and save as Excel\n",
        "df = pd.DataFrame(data)\n",
        "df.to_csv(\"4th year list.csv\", index=False)\n",
        "\n",
        "print(\"Conversion successful! File saved as 'output.csv'\")\n"
      ]
    },
    {
      "cell_type": "code",
      "execution_count": null,
      "metadata": {
        "id": "WEqzG0CQPMsA",
        "outputId": "17d65d86-19a4-4e46-e8e1-de8340bb8957"
      },
      "outputs": [
        {
          "name": "stdout",
          "output_type": "stream",
          "text": [
            "Excel file has been successfully converted to CSV.\n"
          ]
        }
      ],
      "source": [
        "import pandas as pd\n",
        "\n",
        "# Path to the Excel file\n",
        "excel_file_path = r\"C:\\Users\\Yibabe\\Desktop\\webscraping-1\\a2sv\\new_የ፭_ኪሎ_ጊቢ_ጉባኤ_የ፪ኛ_አመት_updated_7.xlsx\"  # Update with your file path\n",
        "csv_file_path = r\"C:\\Users\\Yibabe\\Desktop\\webscraping-1\\a2sv\\2nd year both.csv\"  # Specify where to save the CSV file\n",
        "\n",
        "# Load the Excel file\n",
        "excel_data = pd.read_excel(excel_file_path)\n",
        "\n",
        "# Save it as a CSV\n",
        "excel_data.to_csv(csv_file_path, index=False)\n",
        "\n",
        "print(\"Excel file has been successfully converted to CSV.\")\n"
      ]
    },
    {
      "cell_type": "code",
      "execution_count": null,
      "metadata": {
        "id": "Q5aScNIxPMsB",
        "outputId": "5d835aed-9cdb-4a30-f149-213bf2714c09"
      },
      "outputs": [
        {
          "name": "stdout",
          "output_type": "stream",
          "text": [
            "Updated CSV saved at: C:\\Users\\Yibabe\\Desktop\\webscraping-1\\a2sv\\44e.csv\n"
          ]
        }
      ],
      "source": [
        "import pandas as pd\n",
        "\n",
        "# Define the correct column names\n",
        "column_names = ['No','Name','Department','ክርስትና ስም','Phone Number','Dorm Campus','Dorm Block','Dorm Number','Email','ዐገልግሎት ክፍል']\n",
        "'name', 'ክርስትና ስም', 'Phone Number','Department', 'email', 'ዐገልግሎት ክፍል'\n",
        "# Load the CSV file without headers\n",
        "file_path = r'C:\\Users\\Yibabe\\Desktop\\webscraping-1\\a2sv\\4th year both.csv'\n",
        "df = pd.read_csv(file_path, header=None)\n",
        "\n",
        "# Assign the correct column names\n",
        "df.columns = column_names\n",
        "\n",
        "# Save the updated file\n",
        "updated_file_path = r'C:\\Users\\Yibabe\\Desktop\\webscraping-1\\a2sv\\44e.csv'\n",
        "df.to_csv(updated_file_path, index=False, encoding='utf-8-sig')\n",
        "\n",
        "print(f\"Updated CSV saved at: {updated_file_path}\")\n"
      ]
    },
    {
      "cell_type": "code",
      "source": [
        "import pandas as pd\n",
        "#check is that is inthe correct order"
      ],
      "metadata": {
        "id": "EC8ikZDyPPHQ"
      },
      "execution_count": null,
      "outputs": []
    },
    {
      "cell_type": "code",
      "source": [],
      "metadata": {
        "id": "4Rzpxuv0PPNQ"
      },
      "execution_count": null,
      "outputs": []
    },
    {
      "cell_type": "code",
      "execution_count": null,
      "metadata": {
        "id": "g7DKUn4FPMsB",
        "outputId": "b8fbbb9b-69cb-435d-d316-d30590e5c5c1"
      },
      "outputs": [
        {
          "name": "stdout",
          "output_type": "stream",
          "text": [
            "Updated Columns: Index(['ሙሉ ስም', 'ስልክ ቁጥር', 'የክርስትና ስም', 'Name', 'ዲፓርትመንት', 'የዶርም ግቢ'], dtype='object')\n",
            "Cleaned CSV saved at: C:\\Users\\Yibabe\\Desktop\\webscraping-1\\a2sv\\cleaned.csv\n"
          ]
        }
      ],
      "source": [
        "import pandas as pd\n",
        "\n",
        "# Define file path\n",
        "file_path = r'C:\\Users\\Yibabe\\Desktop\\webscraping-1\\a2sv\\3rd_ehitoch_column.csv'\n",
        "\n",
        "# Read CSV, skipping the second row\n",
        "df = pd.read_csv(file_path, skiprows=[1])\n",
        "\n",
        "# Remove 'Unnamed: 0' if it exists\n",
        "df = df.loc[:, ~df.columns.str.contains('^Unnamed')]\n",
        "\n",
        "# Print column names to verify\n",
        "print(\"Updated Columns:\", df.columns)\n",
        "\n",
        "# Save the cleaned file\n",
        "cleaned_file_path = r'C:\\Users\\Yibabe\\Desktop\\webscraping-1\\a2sv\\cleaned.csv'\n",
        "df.to_csv(cleaned_file_path, index=False, encoding='utf-8-sig')\n",
        "\n",
        "print(f\"Cleaned CSV saved at: {cleaned_file_path}\")\n"
      ]
    },
    {
      "cell_type": "code",
      "execution_count": null,
      "metadata": {
        "id": "4W-OME_hPMsC",
        "outputId": "5fee74a5-18cf-4383-af63-0c6217a085ad"
      },
      "outputs": [
        {
          "name": "stdout",
          "output_type": "stream",
          "text": [
            "Column 'Full Name' has been renamed to 'Name'.\n"
          ]
        }
      ],
      "source": [
        "#change name\n",
        "import pandas as pd\n",
        "\n",
        "# Load the CSV file\n",
        "file_path = r\"C:\\Users\\Yibabe\\Desktop\\webscraping-1\\a2sv\\3rd year ehitoch.csv\"\n",
        "csv_file = pd.read_csv(file_path)\n",
        "\n",
        "# Rename the 'Full Name' column to 'Name'\n",
        "csv_file.rename(columns={'Full Name': 'Name'}, inplace=True)\n",
        "\n",
        "# Save the modified CSV file back\n",
        "csv_file.to_csv(r\"C:\\Users\\Yibabe\\Desktop\\webscraping-1\\a2sv\\3rd__ehitoch.csv\", index=False)\n",
        "\n",
        "print(\"Column 'Full Name' has been renamed to 'Name'.\")\n"
      ]
    },
    {
      "cell_type": "code",
      "execution_count": null,
      "metadata": {
        "id": "1LVPtK00PMsD",
        "outputId": "8faf3ca9-0a14-4703-90be-164720f0049f"
      },
      "outputs": [
        {
          "name": "stdout",
          "output_type": "stream",
          "text": [
            "Filtered names saved to 'filtered_names.csv'\n"
          ]
        }
      ],
      "source": [
        "import pandas as pd\n",
        "\n",
        "# List of names\n",
        "data = [\n",
        "    \"Abebe Megibar Alemu\",\n",
        "    \"Abdurahim Muzemil Hussein\",\n",
        "    \"Abel Erduno Hakenso\",\n",
        "    \"Abel Tesfa Awel\",\n",
        "    \"Abenezer Solomon Tibebe\",\n",
        "    \"Abrham Yishak Yifat\",\n",
        "    \"Abubeker Taha\",\n",
        "    \"Alazar Addis Gebreselassie\",\n",
        "    \"Anansi Sime Belay\",\n",
        "    \"Ashenafi Bizuwork Gebreyohannes\",\n",
        "    \"Ashenafi Dejene Negash\",\n",
        "    \"Bemenet Aschalew Wodaj\",\n",
        "    \"Bethlehem Getachew Beyoro\",\n",
        "    \"Bethlehem Mengist Tiruye\",\n",
        "    \"Betel Mekasha Debele\",\n",
        "    \"Betsinat Amare Teshome\",\n",
        "    \"Bezawit Girma Tsegaye\",\n",
        "    \"Biniyam Tesfu Gasaw\",\n",
        "    \"Binyam Abrha Abay\",\n",
        "    \"Bisrat Maru Shibeshi\",\n",
        "    \"Blen Redwan Shifa\",\n",
        "    \"Biruh Tesfahun Alameraw\",\n",
        "    \"Biruk Demissie\",\n",
        "    \"Biruk Geremew Abza\",\n",
        "    \"Biruk Gebru Jember\",\n",
        "    \"Dame Abera Negeri\",\n",
        "    \"Dagemawi Bekele Negash\",\n",
        "    \"Dagmawi Kassa Kebede\",\n",
        "    \"Dagmawit Sisay Feleke\",\n",
        "    \"Dibora Taye Bekele\",\n",
        "    \"Eden Ephrem Adege\",\n",
        "    \"Eden Zewdu Tadesse\",\n",
        "    \"Edilawit Manaye Endeshaw\",\n",
        "    \"Ephraim Debel Negassa\",\n",
        "    \"Ermias Kindalem Amogne\",\n",
        "    \"Ermiyas Tesfaye Ayalew\",\n",
        "    \"Esub Nadew Tekletsadik\",\n",
        "    \"Eual Girma\",\n",
        "    \"Eyasu Getaneh Ayele\",\n",
        "    \"Feven Issayas Mulugeta\",\n",
        "    \"Feven Tewelde Haile\",\n",
        "    \"Fenet Mulugeta Ejeta\",\n",
        "    \"Finoteloza Sisay Yilma\",\n",
        "    \"Fikreyohanes Abera Shibru\",\n",
        "    \"Fraol Bacha Megersa\",\n",
        "    \"Gedion Zeyede Tefera\",\n",
        "    \"Gizachew Mohammed Jemal\",\n",
        "    \"Hayat Abdurezak Dari\",\n",
        "    \"Henock Tuna\",\n",
        "    \"Henok Asaye Liyew\",\n",
        "    \"Henok Tadesse Kersima\",\n",
        "    \"Hermela Andargie Wondu\",\n",
        "    \"Hibst Dereje Fekadu\",\n",
        "    \"Hilina Zemedkun Bejiga\",\n",
        "    \"Hintsete Hilawe Abera\",\n",
        "    \"Hiwot Addis Abere\",\n",
        "    \"Hunegna Demissie Bekele\",\n",
        "    \"Ibrahim\",\n",
        "    \"Jiru Gutema\",\n",
        "    \"Joshua Taye Alemayehu\",\n",
        "    \"Kaleab Shewangizaw Melese\",\n",
        "    \"Kaletsidike Ayalew Mekonnen\",\n",
        "    \"Kalkidan Abreham Alemu\",\n",
        "    \"Lamesgin Desalegn Chameno\",\n",
        "    \"Lamrot Tariku Shire\",\n",
        "    \"Maedot Asrat Dereb\",\n",
        "    \"Mahlet Asrat Tefera\",\n",
        "    \"Meheret Alemu Wolde\",\n",
        "    \"Mekdes Assefa Fetene\",\n",
        "    \"Meklit Asrat Tefera\",\n",
        "    \"Meron Sisay Aregay\",\n",
        "    \"Mikreselasie Abiy Eseye\",\n",
        "    \"Milki Legese Geda\",\n",
        "    \"Muhammed Ebrahim\",\n",
        "    \"Naomi Meseret Mulatu\",\n",
        "    \"Naomi Zerfu Shiferaw\",\n",
        "    \"Nafargi Damena Geda\",\n",
        "    \"Nahom Teguade Kassa\",\n",
        "    \"Nathanael Cheramlak Wolde\",\n",
        "    \"Nathnael Merihun Mekonnen\",\n",
        "    \"Nathan Fisseha Tsegaye\",\n",
        "    \"Natnael Eyuel Yohannies\",\n",
        "    \"Natnael Yohanes Abdisa\",\n",
        "    \"Nayet Debesay\",\n",
        "    \"Nuel Mezemir\",\n",
        "    \"Oliyad Mulugeta Negassa\",\n",
        "    \"Peniel Yohannes Fuge\",\n",
        "    \"Rahel Yabebal Addis\",\n",
        "    \"Ruth Alemfanta Aregay\",\n",
        "    \"Ruth Ambaw Legesse\",\n",
        "    \"Ruth Gashahun Gebreyes\",\n",
        "    \"Samrawit Hailaeyesus Hursa\",\n",
        "    \"Shalom Habtamu Mihrete\",\n",
        "    \"Sitotaw Ashagre\",\n",
        "    \"Sisay Tadewos Yale\",\n",
        "    \"Sophonias Tamene Seifu\",\n",
        "    \"Tadesse Agegnehu Tebabal\",\n",
        "    \"Teshome Birhanu Cheru\",\n",
        "    \"Tsedeke Techane Molla\",\n",
        "    \"Tsigemariam Zewdu Tadesse\",\n",
        "    \"Tsion Getaneh Amsalu\",\n",
        "    \"Tsion Melese Asfaw\",\n",
        "    \"Venusia Biruk Denmbel\",\n",
        "    \"Welela Bekele Regassa\",\n",
        "    \"Wendwesen Getachew Beyene\",\n",
        "    \"Yetmgeta Ewunetu Arega\",\n",
        "    \"Yeshak Gashaw Mekuria\",\n",
        "    \"Yididia Abera Otiso\",\n",
        "    \"Yohannes Alemu Amare\",\n",
        "    \"Yohannes Worku Demissie\",\n",
        "    \"Yosef Gebreyesus Hagos\",\n",
        "    \"Yosef Solomon Teferra\",\n",
        "    \"Yoseph Berhanu Nuramo\",\n",
        "    \"Yonasan Getachew Beshah\",\n",
        "    \"Yonatan Yishak Yifat\",\n",
        "    \"Yonas Ayele Tola\",\n",
        "    \"Yonas Baysasaw Kibret\",\n",
        "    \"Yonas Tessema Achule\",\n",
        "    \"Yonathan Desalegn Biyadglign\",\n",
        "    \"Zeamanuel Admasu Shibru\",\n",
        "    \"Zufan Gebrehiwot Hadgu\"\n",
        "]\n",
        "\n",
        "# Function to extract first and second names only\n",
        "def extract_first_two_names(name):\n",
        "    parts = name.split()\n",
        "    return ' '.join(parts[:2])  # Keep only the first two words\n",
        "\n",
        "# Apply function to all names\n",
        "filtered_names = [extract_first_two_names(name) for name in data]\n",
        "\n",
        "# Convert to DataFrame\n",
        "df = pd.DataFrame(filtered_names, columns=[\"Name\"])\n",
        "\n",
        "# Save to CSV\n",
        "df.to_csv(\"filtered_names.csv\", index=False, encoding='utf-8')\n",
        "\n",
        "print(\"Filtered names saved to 'filtered_names.csv'\")\n"
      ]
    },
    {
      "cell_type": "code",
      "execution_count": null,
      "metadata": {
        "id": "pOn_GJlTPMsE",
        "outputId": "0107dc35-27a8-4b47-a764-fd6e9b4e34a7"
      },
      "outputs": [
        {
          "name": "stdout",
          "output_type": "stream",
          "text": [
            "CSV File 1 Columns: Index([' ሙሉ ስም', 'ስልክ ቁጥር', 'የክርስትና ስም', 'Name', 'ዲፓርትመንት', 'የዶርም ግቢ'], dtype='object')\n",
            "CSV File 2 Columns: Index(['Name'], dtype='object')\n",
            "Filtered names based on first name have been saved.\n"
          ]
        }
      ],
      "source": [
        "import pandas as pd\n",
        "\n",
        "# Load the first CSV (skip the first row if it has extra data)\n",
        "csv_file1 = pd.read_csv(r\"C:\\Users\\Yibabe\\Desktop\\webscraping-1\\a2sv\\3rd_wondimoch.csv\", skiprows=1)\n",
        "\n",
        "# Load the second CSV\n",
        "csv_file2 = pd.read_csv(r\"C:\\Users\\Yibabe\\Desktop\\webscraping-1\\a2sv\\a2sv.csv\")\n",
        "\n",
        "# Print column names of both files to check if they match\n",
        "print(\"CSV File 1 Columns:\", csv_file1.columns)\n",
        "print(\"CSV File 2 Columns:\", csv_file2.columns)\n",
        "\n",
        "# Clean column names (remove extra spaces and make them lowercase for easier matching)\n",
        "csv_file1.columns = csv_file1.columns.str.strip().str.lower()\n",
        "csv_file2.columns = csv_file2.columns.str.strip().str.lower()\n",
        "\n",
        "# Extract only the first name from the 'name' column\n",
        "csv_file1['first_name'] = csv_file1['name'].str.split().str[0]  # Take first word\n",
        "csv_file2['first_name'] = csv_file2['name'].str.split().str[0]  # Take first word\n",
        "\n",
        "# Now check if 'first_name' exists in both DataFrames\n",
        "if 'first_name' in csv_file1.columns and 'first_name' in csv_file2.columns:\n",
        "    # Find the names that exist in both CSV files based on first name\n",
        "    common_names = csv_file1[csv_file1['first_name'].isin(csv_file2['first_name'])]\n",
        "\n",
        "    # Select only relevant columns from the first CSV\n",
        "    result = common_names[['name', 'ሙሉ ስም', 'የክርስትና ስም', 'ስልክ ቁጥር', 'ዲፓርትመንት', 'የዶርም ግቢ']]\n",
        "\n",
        "    # Save the result to a new CSV file\n",
        "    result.to_csv(r\"C:\\Users\\Yibabe\\Desktop\\webscraping-1\\a2sv\\rd_a2sv_wondimoch.csv\", index=False)\n",
        "\n",
        "    print(\"Filtered names based on first name have been saved.\")\n",
        "else:\n",
        "    print(\"The column 'first_name' is missing from one or both files.\")\n"
      ]
    },
    {
      "cell_type": "code",
      "execution_count": null,
      "metadata": {
        "id": "CtusND-ZPMsE",
        "outputId": "b9a1948c-411d-4ddc-9b95-cc47ce3400ac"
      },
      "outputs": [
        {
          "name": "stdout",
          "output_type": "stream",
          "text": [
            "CSV File 1 Columns: Index(['ተራ ቁጥር', 'Name', 'ስም ', 'የክርስትና ስም', 'ዶርም ', 'ስልክ ቁጥር', 'section',\n",
            "       'Department'],\n",
            "      dtype='object')\n",
            "CSV File 2 Columns: Index(['Name'], dtype='object')\n",
            "Filtered names based on first name have been saved.\n"
          ]
        }
      ],
      "source": [
        "import pandas as pd\n",
        "\n",
        "# Load the first CSV (skip the first row if it has extra data)\n",
        "csv_file1 = pd.read_csv(r\"C:\\Users\\Yibabe\\Desktop\\webscraping-1\\a2sv\\2nd_cleaned.csv\", skiprows=1)\n",
        "\n",
        "# Load the second CSV\n",
        "csv_file2 = pd.read_csv(r\"C:\\Users\\Yibabe\\Desktop\\webscraping-1\\a2sv\\a2sv.csv\")\n",
        "\n",
        "# Print column names of both files to check if they match\n",
        "print(\"CSV File 1 Columns:\", csv_file1.columns)\n",
        "print(\"CSV File 2 Columns:\", csv_file2.columns)\n",
        "\n",
        "# Clean column names (remove extra spaces and make them lowercase for easier matching)\n",
        "csv_file1.columns = csv_file1.columns.str.strip().str.lower()\n",
        "csv_file2.columns = csv_file2.columns.str.strip().str.lower()\n",
        "\n",
        "# Extract only the first name from the 'name' column\n",
        "csv_file1['first_name'] = csv_file1['name'].str.split().str[0]  # Take first word\n",
        "csv_file2['first_name'] = csv_file2['name'].str.split().str[0]  # Take first word\n",
        "\n",
        "# Now check if 'first_name' exists in both DataFrames\n",
        "if 'first_name' in csv_file1.columns and 'first_name' in csv_file2.columns:\n",
        "    # Find the names that exist in both CSV files based on first name\n",
        "    common_names = csv_file1[csv_file1['first_name'].isin(csv_file2['first_name'])]\n",
        "\n",
        "    # Select only relevant columns from the first CSV\n",
        "    result = common_names[['name', 'ስም', 'የክርስትና ስም', 'ስልክ ቁጥር']]\n",
        "\n",
        "    # Save the result to a new CSV file\n",
        "    result.to_csv(r\"C:\\Users\\Yibabe\\Desktop\\webscraping-1\\a2sv\\2rd_a2sv_wondimoch.csv\", index=False)\n",
        "\n",
        "    print(\"Filtered names based on first name have been saved.\")\n",
        "else:\n",
        "    print(\"The column 'first_name' is missing from one or both files.\")\n"
      ]
    },
    {
      "cell_type": "code",
      "execution_count": null,
      "metadata": {
        "id": "X90MT4_XPMsG"
      },
      "outputs": [],
      "source": [
        "import pandas as pd\n",
        "\n",
        "# Load the first CSV (skip the first row if it has extra data)\n",
        "csv_file1 = pd.read_csv(r\"C:\\Users\\Yibabe\\Desktop\\webscraping-1\\a2sv\\2nd_cleaned.csv\", skiprows=1)\n",
        "\n",
        "# Load the second CSV\n",
        "csv_file2 = pd.read_csv(r\"C:\\Users\\Yibabe\\Desktop\\webscraping-1\\a2sv\\a2sv.csv\")\n",
        "\n",
        "# Print column names of both files to check if they match\n",
        "print(\"CSV File 1 Columns:\", csv_file1.columns)\n",
        "print(\"CSV File 2 Columns:\", csv_file2.columns)\n",
        "\n",
        "# Clean column names (remove extra spaces and make them lowercase for easier matching)\n",
        "csv_file1.columns = csv_file1.columns.str.strip().str.lower()\n",
        "csv_file2.columns = csv_file2.columns.str.strip().str.lower()\n",
        "\n",
        "# Extract only the first name from the 'name' column\n",
        "csv_file1['first_name'] = csv_file1['name'].str.split().str[0]  # Take first word\n",
        "csv_file2['first_name'] = csv_file2['name'].str.split().str[0]  # Take first word\n",
        "\n",
        "# Now check if 'first_name' exists in both DataFrames\n",
        "if 'first_name' in csv_file1.columns and 'first_name' in csv_file2.columns:\n",
        "    # Find the names that exist in both CSV files based on first name\n",
        "    common_names = csv_file1[csv_file1['first_name'].isin(csv_file2['first_name'])]\n",
        "\n",
        "    # Select only relevant columns from the first CSV\n",
        "    result = common_names[['name', 'ስም', 'የክርስትና ስም', 'ስልክ ቁጥር']]\n",
        "\n",
        "    # Save the result to a new CSV file\n",
        "    result.to_csv(r\"C:\\Users\\Yibabe\\Desktop\\webscraping-1\\a2sv\\2rd_a2sv_wondimoch.csv\", index=False)\n",
        "\n",
        "    print(\"Filtered names based on first name have been saved.\")\n",
        "else:\n",
        "    print(\"The column 'first_name' is missing from one or both files.\")\n"
      ]
    }
  ],
  "metadata": {
    "kernelspec": {
      "display_name": "Python 3",
      "language": "python",
      "name": "python3"
    },
    "language_info": {
      "codemirror_mode": {
        "name": "ipython",
        "version": 3
      },
      "file_extension": ".py",
      "mimetype": "text/x-python",
      "name": "python",
      "nbconvert_exporter": "python",
      "pygments_lexer": "ipython3",
      "version": "3.12.5"
    },
    "colab": {
      "provenance": []
    }
  },
  "nbformat": 4,
  "nbformat_minor": 0
}