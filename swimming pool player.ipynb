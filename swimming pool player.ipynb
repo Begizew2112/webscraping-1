{
 "cells": [
  {
   "cell_type": "code",
   "execution_count": 12,
   "metadata": {},
   "outputs": [],
   "source": [
    "from selenium import webdriver\n",
    "import pandas as pd\n",
    "from selenium.webdriver.common.by import By\n",
    "from selenium.webdriver.support.ui import Select\n",
    "from selenium.webdriver.support.ui import WebDriverWait\n",
    "from selenium.webdriver.support import expected_conditions as EC\n",
    "driver=webdriver.Chrome()\n",
    "import requests\n",
    "import time\n",
    "\n"
   ]
  },
  {
   "cell_type": "code",
   "execution_count": 13,
   "metadata": {},
   "outputs": [],
   "source": [
    "# adress of the website\n",
    "url='https://www.usaswimming.org/times/data-hub/all-time-top-performers'\n",
    "driver.get(url)"
   ]
  },
  {
   "cell_type": "code",
   "execution_count": 14,
   "metadata": {},
   "outputs": [],
   "source": [
    "ok_button='//*[@id=\"CybotCookiebotDialogBodyLevelButtonAccept\"]'\n",
    "click_ok=driver.find_element(By.XPATH,ok_button)\n",
    "click_ok.click()"
   ]
  },
  {
   "cell_type": "code",
   "execution_count": 15,
   "metadata": {},
   "outputs": [],
   "source": [
    "# Wait for the pass code dropdown to be clickable\n",
    "csv_selector = '#Times_RecordTrackingLists_Index_Div-1-Step3 > div.usas-times-recordtrackinglists-top > div.usas-times-recordtrackinglists-top-gender-course > div > span > span > span.k-select'\n",
    "select_option = WebDriverWait(driver, 6).until(EC.element_to_be_clickable((By.CSS_SELECTOR,csv_selector)))\n",
    "select_option.click()\n"
   ]
  },
  {
   "cell_type": "code",
   "execution_count": 16,
   "metadata": {},
   "outputs": [],
   "source": [
    "# Click on the \"Select Performance\" option\n",
    "record_tracking_xpath = '//*[@id=\"Times_RecordTrackingLists_Index_Div-1-ddlRecordTrackingTypeList_listbox\"]/li[3]'\n",
    "select_performance = WebDriverWait(driver, 10).until(EC.element_to_be_clickable((By.XPATH, record_tracking_xpath)))\n",
    "select_performance.click()"
   ]
  },
  {
   "cell_type": "code",
   "execution_count": 17,
   "metadata": {},
   "outputs": [],
   "source": [
    "# Click on the gender dropdown and select \"Women\"\n",
    "gender_csv = '#Times_RecordTrackingLists_Index_Div-1-Step3 > div.usas-times-recordtrackinglists-top > div.usas-times-recordtrackinglists-top-gender-course > span:nth-child(3) > span > span.k-select'\n",
    "gender_dropdown = WebDriverWait(driver, 10).until(EC.element_to_be_clickable((By.CSS_SELECTOR, gender_csv)))\n",
    "gender_dropdown.click()\n",
    "\n"
   ]
  },
  {
   "cell_type": "code",
   "execution_count": 18,
   "metadata": {},
   "outputs": [],
   "source": [
    "gender_option_xpath = '//*[@id=\"Times_RecordTrackingLists_Index_Div-1-ddlGender_listbox\"]/li[3]'\n",
    "gender_option = WebDriverWait(driver, 10).until(EC.element_to_be_clickable((By.XPATH, gender_option_xpath)))\n",
    "gender_option.click()"
   ]
  },
  {
   "cell_type": "code",
   "execution_count": 19,
   "metadata": {},
   "outputs": [],
   "source": [
    "#  Click on the course dropdown and select \"LCM\"\n",
    "course_csv = '#Times_RecordTrackingLists_Index_Div-1-Step3 > div.usas-times-recordtrackinglists-top > div.usas-times-recordtrackinglists-top-gender-course > span:nth-child(7) > span > span.k-select'\n",
    "course_dropdown = WebDriverWait(driver, 10).until(EC.element_to_be_clickable((By.CSS_SELECTOR, course_csv)))\n",
    "course_dropdown.click()\n"
   ]
  },
  {
   "cell_type": "code",
   "execution_count": 20,
   "metadata": {},
   "outputs": [],
   "source": [
    "course_option_xpath = '//*[@id=\"Times_RecordTrackingLists_Index_Div-1-ddlCourse_listbox\"]/li[2]'\n",
    "course_option = WebDriverWait(driver, 10).until(EC.element_to_be_clickable((By.XPATH, course_option_xpath)))\n",
    "course_option.click()"
   ]
  },
  {
   "cell_type": "code",
   "execution_count": 10,
   "metadata": {},
   "outputs": [],
   "source": [
    "class_name ='//*[@id=\"Times_RecordTrackingLists_Index_Div-1-Events\"]/div[2]/table'\n",
    "matchs = driver.find_elements(By.XPATH, class_name)\n",
    "\n",
    "event = []\n",
    "gender = []\n",
    "age = []\n",
    "\n",
    "for match in matchs:\n",
    "    rows = match.find_elements(By.TAG_NAME, 'tr')\n",
    "    for row in rows:\n",
    "        event_day = row.find_element(By.XPATH, './td[1]').text\n",
    "        event.append(event_day)\n",
    "        # print(event_day)..... to check it is ok\n",
    "\n",
    "        gender_type = row.find_element(By.XPATH, './td[2]').text\n",
    "        gender.append(gender_type)\n",
    "\n",
    "        age_group = row.find_element(By.XPATH, './td[3]').text\n",
    "        age.append(age_group)\n",
    "        "
   ]
  },
  {
   "cell_type": "code",
   "execution_count": 11,
   "metadata": {},
   "outputs": [
    {
     "name": "stdout",
     "output_type": "stream",
     "text": [
      "          event   gender age_group\n",
      "0     50 FR SCY  Women's      Open\n",
      "1    100 FR SCY  Women's      Open\n",
      "2    200 FR SCY  Women's      Open\n",
      "3    500 FR SCY  Women's      Open\n",
      "4   1000 FR SCY  Women's      Open\n",
      "5   1650 FR SCY  Women's      Open\n",
      "6    100 BK SCY  Women's      Open\n",
      "7    200 BK SCY  Women's      Open\n",
      "8    100 BR SCY  Women's      Open\n",
      "9    200 BR SCY  Women's      Open\n",
      "10   100 FL SCY  Women's      Open\n",
      "11   200 FL SCY  Women's      Open\n",
      "12   200 IM SCY  Women's      Open\n",
      "13   400 IM SCY  Women's      Open\n"
     ]
    }
   ],
   "source": [
    "# to formulate dataframe and excelsheet\n",
    "\n",
    "df=pd.DataFrame({'event':event,'gender': gender, 'age_group':age_group })\n",
    "df.to_excel('swimming_data.xlsx',index =False)\n",
    "print(df)"
   ]
  },
  {
   "cell_type": "code",
   "execution_count": null,
   "metadata": {},
   "outputs": [],
   "source": []
  },
  {
   "cell_type": "code",
   "execution_count": null,
   "metadata": {},
   "outputs": [],
   "source": [
    "\n"
   ]
  },
  {
   "cell_type": "code",
   "execution_count": null,
   "metadata": {},
   "outputs": [],
   "source": [
    "\n"
   ]
  },
  {
   "cell_type": "code",
   "execution_count": null,
   "metadata": {},
   "outputs": [],
   "source": [
    "\n"
   ]
  },
  {
   "cell_type": "code",
   "execution_count": null,
   "metadata": {},
   "outputs": [],
   "source": []
  },
  {
   "cell_type": "code",
   "execution_count": null,
   "metadata": {},
   "outputs": [],
   "source": []
  },
  {
   "cell_type": "code",
   "execution_count": null,
   "metadata": {},
   "outputs": [],
   "source": [
    "\n",
    "\n",
    "    "
   ]
  },
  {
   "cell_type": "code",
   "execution_count": null,
   "metadata": {},
   "outputs": [],
   "source": [
    "\n"
   ]
  },
  {
   "cell_type": "code",
   "execution_count": null,
   "metadata": {},
   "outputs": [],
   "source": [
    "\n",
    "    "
   ]
  },
  {
   "cell_type": "code",
   "execution_count": 39,
   "metadata": {},
   "outputs": [],
   "source": [
    "\n"
   ]
  },
  {
   "cell_type": "code",
   "execution_count": null,
   "metadata": {},
   "outputs": [],
   "source": []
  },
  {
   "cell_type": "code",
   "execution_count": 38,
   "metadata": {},
   "outputs": [
    {
     "name": "stdout",
     "output_type": "stream",
     "text": [
      "          event   gender age_group\n",
      "0     50 FR LCM  Women's      Open\n",
      "1    100 FR LCM  Women's      Open\n",
      "2    200 FR LCM  Women's      Open\n",
      "3    400 FR LCM  Women's      Open\n",
      "4    800 FR LCM  Women's      Open\n",
      "5   1500 FR LCM  Women's      Open\n",
      "6     50 BK LCM  Women's      Open\n",
      "7    100 BK LCM  Women's      Open\n",
      "8    200 BK LCM  Women's      Open\n",
      "9     50 BR LCM  Women's      Open\n",
      "10   100 BR LCM  Women's      Open\n",
      "11   200 BR LCM  Women's      Open\n",
      "12    50 FL LCM  Women's      Open\n",
      "13   100 FL LCM  Women's      Open\n",
      "14   200 FL LCM  Women's      Open\n"
     ]
    }
   ],
   "source": []
  },
  {
   "cell_type": "code",
   "execution_count": null,
   "metadata": {},
   "outputs": [],
   "source": []
  },
  {
   "cell_type": "code",
   "execution_count": null,
   "metadata": {},
   "outputs": [],
   "source": []
  },
  {
   "cell_type": "code",
   "execution_count": null,
   "metadata": {},
   "outputs": [],
   "source": []
  },
  {
   "cell_type": "code",
   "execution_count": null,
   "metadata": {},
   "outputs": [],
   "source": []
  },
  {
   "cell_type": "code",
   "execution_count": null,
   "metadata": {},
   "outputs": [],
   "source": []
  }
 ],
 "metadata": {
  "kernelspec": {
   "display_name": "Python 3",
   "language": "python",
   "name": "python3"
  },
  "language_info": {
   "codemirror_mode": {
    "name": "ipython",
    "version": 3
   },
   "file_extension": ".py",
   "mimetype": "text/x-python",
   "name": "python",
   "nbconvert_exporter": "python",
   "pygments_lexer": "ipython3",
   "version": "3.12.2"
  }
 },
 "nbformat": 4,
 "nbformat_minor": 2
}
