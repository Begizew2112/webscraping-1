{
 "cells": [
  {
   "cell_type": "code",
   "execution_count": 4,
   "metadata": {},
   "outputs": [],
   "source": [
    "import time \n",
    "import pandas as pd \n",
    "import requests\n",
    "from collections import defaultdict\n",
    "from selenium import webdriver\n",
    "from selenium.webdriver.common.by import By\n",
    "from selenium.webdriver.common.keys import Keys\n",
    "from selenium.webdriver.chrome.options import Options\n",
    "from selenium.webdriver.support import expected_conditions as EC\n",
    "from selenium.webdriver.support.ui import WebDriverWait"
   ]
  },
  {
   "cell_type": "code",
   "execution_count": 2,
   "metadata": {},
   "outputs": [],
   "source": [
    "website = 'https://tradelink.com.au/store-finder'"
   ]
  },
  {
   "cell_type": "code",
   "execution_count": 3,
   "metadata": {},
   "outputs": [],
   "source": [
    "options = Options()\n",
    "options.add_argument(\"start-maximized\")\n",
    "options.add_argument(\"--disable-infobars\")\n",
    "options.add_argument(\n",
    "    \"user-agent=Mozilla/5.0 (Windows NT 10.0; Win64; x64) AppleWebKit/537.36 (KHTML, like Gecko) Chrome/83.0.4103.116 Safari/537.36\"\n",
    "    )\n",
    "options.add_argument(\"--disable-cookies\")"
   ]
  },
  {
   "cell_type": "code",
   "execution_count": null,
   "metadata": {},
   "outputs": [],
   "source": [
    "def populate(contents):\n",
    "    columns = ['trade-class', 'address', 'latitued', 'longitude', 'email', 'phone', 'branch hours', 'showroom hours']\n",
    "    for content, column in zip(contents, columns):\n",
    "        data[column].append(content)\n",
    "\n",
    "def get_latlng(address):\n",
    "    base_url = 'https://nominatim.openstreetmap.org/search'\n",
    "    try:\n",
    "        response = requests.get(f\"{base_url}?q={address}&format=json\") \n",
    "        response_json = response.json()[0]\n",
    "        lat, lon = response_json['lat'], response_json['lon']\n",
    "        return lat, lon\n",
    "    except:\n",
    "        return '', ''\n",
    "        \n",
    "def get_contacts():\n",
    "    email = WebDriverWait(driver, 10).until(\n",
    "        EC.presence_of_element_located((By.CLASS_NAME, 'SLM_Store_Header_Email'))\n",
    "    ).text.split(': ')[1]\n",
    "    phone = WebDriverWait(driver, 10).until(\n",
    "        EC.presence_of_element_located((By.CLASS_NAME, 'SLM_Store_Header_Phone_'))\n",
    "    ).text.split(': ')[1]\n",
    "    return email, phone\n",
    "\n",
    "def get_hours():\n",
    "    elements = driver.find_elements(By.XPATH, '//ul[contains(@class, \"SLM_Store_Hours SLM_Store_Timetable_Column\")]')\n",
    "    try:\n",
    "        branch_hours = elements[0].text.split('\\n')[1:]\n",
    "    except:\n",
    "        branch_hours = 'Not available'\n",
    "    try:\n",
    "        showroom_hours = elements[1].text.split('\\n')[1:]\n",
    "    except:\n",
    "        showroom_hours = 'Not available'\n",
    "        \n",
    "    return branch_hours, showroom_hours\n",
    "\n",
    "\n",
    "def get_directions():\n",
    "    class_name = 'SLM_Store_Header_Address'\n",
    "    element = WebDriverWait(driver, 10).until(\n",
    "        EC.presence_of_element_located((By.CLASS_NAME, class_name))\n",
    "    )\n",
    "    address = element.text\n",
    "    try:\n",
    "        latitude, longitude = get_latlng(address)\n",
    "        return address, latitude, longitude\n",
    "    except:\n",
    "        return address,  '', ''\n",
    "     \n",
    "def get_trade_classification():\n",
    "    element = WebDriverWait(driver, 10).until(\n",
    "        EC.presence_of_element_located((By.CLASS_NAME, \"SLM_Store_Header_Title\"))\n",
    "    )\n",
    "    return element.text\n",
    "\n",
    "def open_in_newtab(url):\n",
    "    return driver.execute_script(f\"window.open('{url}', '_blank');\")\n",
    "    \n",
    "def go_to_newtab(index):\n",
    "    return driver.switch_to.window(driver.window_handles[index])\n",
    "    \n",
    "if __name__ == '__main__':\n",
    "    data = defaultdict(list)\n",
    "    driver = webdriver.Chrome(options = options)\n",
    "    driver.get(website)\n",
    "    time.sleep(2)\n",
    "    elements = WebDriverWait(driver, 10).until(\n",
    "        EC.presence_of_all_elements_located((By.CLASS_NAME, 'hyperlink'))\n",
    "    )\n",
    "    urls = [element.get_attribute('href') for element in elements]\n",
    "    cnt = 0\n",
    "    for url in urls:\n",
    "        cnt += 1\n",
    "        open_in_newtab(url)\n",
    "        time.sleep(2)\n",
    "        go_to_newtab(1)\n",
    "        time.sleep(2)\n",
    "        classification = get_trade_classification()\n",
    "        time.sleep(2)\n",
    "        email, phone = get_contacts()\n",
    "        time.sleep(2)\n",
    "        branch_hours, showroom_hours = get_hours()\n",
    "        time.sleep(2)\n",
    "        address, latitude, longitude = get_directions()\n",
    "        time.sleep(2)\n",
    "        populate([classification, address, latitude, longitude, email, phone, branch_hours, showroom_hours])\n",
    "        driver.close()\n",
    "        go_to_newtab(0)\n",
    "        time.sleep(3)\n",
    "        if cnt%10 == 0:\n",
    "            print(cnt)\n",
    "        \n",
    "            \n",
    "        # print(classification, address, zip_code, latitude, longitude, email, phone)\n",
    "    "
   ]
  },
  {
   "cell_type": "code",
   "execution_count": null,
   "metadata": {},
   "outputs": [],
   "source": [
    "df = pd.DataFrame(data)\n",
    "df.head()"
   ]
  },
  {
   "cell_type": "code",
   "execution_count": null,
   "metadata": {},
   "outputs": [],
   "source": [
    "df.to_excel('tradelink.xlsx', index=False)"
   ]
  },
  {
   "cell_type": "code",
   "execution_count": null,
   "metadata": {},
   "outputs": [],
   "source": []
  },
  {
   "cell_type": "code",
   "execution_count": null,
   "metadata": {},
   "outputs": [],
   "source": []
  },
  {
   "cell_type": "code",
   "execution_count": null,
   "metadata": {},
   "outputs": [],
   "source": []
  },
  {
   "cell_type": "code",
   "execution_count": null,
   "metadata": {},
   "outputs": [],
   "source": []
  },
  {
   "cell_type": "code",
   "execution_count": null,
   "metadata": {},
   "outputs": [],
   "source": []
  },
  {
   "cell_type": "code",
   "execution_count": 10,
   "metadata": {},
   "outputs": [
    {
     "name": "stdout",
     "output_type": "stream",
     "text": [
      "Request successful\n",
      "Response: \n"
     ]
    }
   ],
   "source": [
    "import requests\n",
    "\n",
    "url = 'https://www.latlong.net/_spm4.php'\n",
    "data = {\n",
    "    \"c1\": \"164 Queen Street, Warragul VIC 3820\",\n",
    "    \"action\": \"gpcm\",\n",
    "    \"cp\": \"\"    \n",
    "}\n",
    "\n",
    "headers = {\n",
    "    \"Content-Type\": \"application/x-www-form-urlencoded\",\n",
    "    \"Referer\": \"https://www.latlong.net/convert-address-to-lat-long.html\",\n",
    "    \"User-Agent\": \"Mozilla/5.0 (Windows NT 10.0; Win64; x64) AppleWebKit/537.36 (KHTML, like Gecko) Chrome/121.0.0.0 Safari/537.36\"\n",
    "}\n",
    "\n",
    "try:\n",
    "    response = requests.post(url, data=data, headers=headers)\n",
    "    response.raise_for_status()  # Raise an exception for 4xx and 5xx status codes\n",
    "    print(\"Request successful\")\n",
    "    print(\"Response:\", response.text)\n",
    "except requests.exceptions.HTTPError as err:\n",
    "    print(\"HTTP error occurred:\", err)\n",
    "except Exception as err:\n",
    "    print(\"An error occurred:\", err)\n"
   ]
  },
  {
   "cell_type": "code",
   "execution_count": 14,
   "metadata": {},
   "outputs": [],
   "source": [
    "import requests\n",
    "r = requests.post('http://text-processing.com/api/phrases/',\n",
    "                  data= {'text':'This is California.'})"
   ]
  },
  {
   "cell_type": "code",
   "execution_count": 15,
   "metadata": {},
   "outputs": [
    {
     "data": {
      "text/plain": [
       "b'{\"NP\": [\"California\", \"This\"], \"GPE\": [\"California\"], \"VP\": [\"is\"], \"LOCATION\": [\"California\"]}'"
      ]
     },
     "execution_count": 15,
     "metadata": {},
     "output_type": "execute_result"
    }
   ],
   "source": [
    "r.content"
   ]
  }
 ],
 "metadata": {
  "kernelspec": {
   "display_name": "Python 3",
   "language": "python",
   "name": "python3"
  },
  "language_info": {
   "codemirror_mode": {
    "name": "ipython",
    "version": 3
   },
   "file_extension": ".py",
   "mimetype": "text/x-python",
   "name": "python",
   "nbconvert_exporter": "python",
   "pygments_lexer": "ipython3",
   "version": "3.10.11"
  }
 },
 "nbformat": 4,
 "nbformat_minor": 2
}
